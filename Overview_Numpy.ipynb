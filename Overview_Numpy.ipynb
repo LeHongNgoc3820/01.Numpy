{
 "cells": [
  {
   "cell_type": "markdown",
   "id": "d9a03c78",
   "metadata": {},
   "source": [
    "# <p style=\"padding:20px;background-color:#ffe7a0;margin:0;color:(0,0,0);font-family:newtimeroman;font-size:150%;text-align:center;border-radius: 20px;overflow:hidden;font-weight:900\">INTRODUCTION TO NUMPY</p>\n",
    "\n",
    "# 1. Lí thuyết\n",
    "\n",
    "## 1.1 NumPy là gì?\n",
    "\n",
    "**NumPy** (viết tắt của Numerical Python) từ lâu đã là nền tảng của điện toán số (numerical computing) trong Python. Nó cung cấp cấu trúc dữ liệu, thuật toán và thư viện cần thiết cho hầu hết các ứng dụng khoa học liên quan đến dữ liệu số trong Python. Thư viện NumPy bao gồm các đối tượng mảng đa chiều (multidimensional array) và một tập hợp các phương thức để xử lý mảng đa chiều đó. Sử dụng Numpy, các toán tử toán học và logic có thể được thực hiện. Ngoài các khả năng xử lý mảng nhanh mà NumPy có, một trong những ứng dụng chính của Numpy trong phân tích dữ liệu là làm nơi chứa dữ liệu được truyền giữa các thuật toán và thư viện. Đối với dữ liệu số, mảng NumPy hiệu quả hơn để lưu trữ và thao tác dữ liệu so với các cấu trúc dữ liệu Python tích hợp khác. \n",
    "\n",
    "**Cài đặt:**  \n",
    "\n",
    "`pip install numpy`\n",
    "\n",
    "Sau khi cài đặt hoàn tất, chúng ta cần import nó để sử dụng như các thư viện khác của Python để sử dụng các hàm số của NumPy:\n",
    "\n",
    "`import numpy as np`\n",
    "\n",
    "**Ưu điểm:**\n",
    "-\tChứa bộ các giá trị\n",
    "-\tCó thể chứa các loại dữ liệu khác nhau\n",
    "-\tCó thể thay đổi, thêm, xoá\n",
    "-\tĐầy đủ chức năng tính toán\n",
    "-\tRất nhiều thư viện được xây dựng sẵn trong NumPy\n",
    "-\tCần cho Data Science vì thực hiện công việc tính toán trên các bộ dữ liệu với tốc độ cao.\n",
    "\n",
    "## 1.2 NumPy – Ndarray Object\n",
    "\n",
    "Đối tượng quan trọng nhất trong Numpy là kiểu mảng N-dimensional được gọi là `ndarray`. Nó mô tả một bộ các item cùng kiểu. Item trong mảng có thể truy xuất bằng cách sử dụng zero-based index.\n",
    "Mỗi item trong ndarray có cùng kích thước block trong bộ nhớ và là một đối tượng data-type gọi là `dtype`.\n",
    "Bất kì item nào được trích xuất từ ndarray object bằng cách cắt ra được đại diện bởi một Python object của một kiểu mảng vô hướng (array scalar type).\n",
    "Một thực thể của ndarray class có thể được tạo ra từ nhiều phương thức tạo mảng khác nhau. Ndarray cơ bản được tạo bằng cách sử dụng phương thức: `numpy.array`.\n",
    "\n",
    "**Cú pháp:**\n",
    "\n",
    "`numpy.array(object, dtype=None, copy=True, ndmin=0`\n",
    "\n",
    "**Trong đó:**\n",
    "+ **Object**: đối tượng có phương thức giao diện mảng.\n",
    "+ **Dtype**: loại dữ liệu mong muốn của mảng (tuỳ chọn)\n",
    "+ **Copy**: mặc định = True đối tượng được copy (tuỳ chọn)\n",
    "+ **ndmin**: chỉ định kích thước tổi thiểu của mảng kết quả.\n",
    "\n",
    "## 1.3 Numpy – Data Type\n",
    "\n",
    "Numpy hỗ trợ rất nhiều kiểu dữ liệu khác nhau như:  \n",
    "+ **bool** (hay **Boolean**): Đúng hoặc sai, được lưu trữ dưới dạng byte.\n",
    "+ **int_**: Kiểu số nguyên mặc định (thường là int64 hoặc int32).\n",
    "+ **int8**: Byte (-128 đến 127).\n",
    "+ **int16**: Số nguyên (-32768 đến 32767).\n",
    "+ **int32**: Số nguyên (-2147483648 đến 2147483647).\n",
    "+ **int64**: Số nguyên (-9223372036854775808 đến 9223372036854775807).\n",
    "+ **float_**: Viết tắt cho float64.\n",
    "+ **float16**: bit dấu, số mũ 5 bit, phần định trị 10 bit.\n",
    "+ **float32**: bit dấu, số mũ 8 bit, phần định trị 23 bit.\n",
    "+ **float64**: bit dấu, số mũ 11 bit, phần định trị 52 bit."
   ]
  },
  {
   "cell_type": "code",
   "execution_count": 1,
   "id": "11a440ee",
   "metadata": {},
   "outputs": [],
   "source": [
    "# install NumPy using popular Python package installer, pip.\n",
    "# pip install numpy"
   ]
  },
  {
   "cell_type": "code",
   "execution_count": 2,
   "id": "a936e032",
   "metadata": {},
   "outputs": [
    {
     "name": "stdout",
     "output_type": "stream",
     "text": [
      "1.23.5\n"
     ]
    }
   ],
   "source": [
    "# Checking NumPy Version\n",
    "import numpy as np\n",
    "print(np.__version__)"
   ]
  },
  {
   "cell_type": "markdown",
   "id": "c9930ffb",
   "metadata": {},
   "source": [
    "# 2. Thực hành (Thao tác trên mảng)\n",
    "## 2.1. Mảng một chiều\n",
    "+ Từ object có định dạng array, sử dụng: `array()`\n",
    "+ Từ list, tuple, sử dụng: `asarray()`\n",
    "+ Có giá trị mặc định là 0, 1, sử dụng: `zeros()` và `ones()`\n",
    "+ Từ range, sử dụng: `numpy.arange(start, stop, step, dtype)`\n",
    "+ Từ range có khoảng cách đều nhau, sử dụng: `numpy.linspace(start, stop, num, endpoint, dtype)`\n",
    "+ Truy xuất phần tử trên mảng theo: `slice(start, stop, step)`\n",
    "+ Thêm phần tử vào index trong mảng, sử dụng: `insert()`\n",
    "+ Xoá phần tử tại index trong mảng, sử dụng: `delete()`\n",
    "+ Broadcasting: thực hiện các phép toán số học trên mảng\n",
    "+ Statistical function: `max()` hoặc `amax()`, `min()` hoặc `amin()`, `sum()`, `mean()` và `median()`.\n",
    "+ Sắp xếp trăng dần/giảm dần trong mảng, sử dụng: `sort()`\n",
    "+ Tìm index của các phần tử trong mảng thoả điều kiện, sử dụng: `where()`\n",
    "+ Tìm các phần tử trong mảng thoả điều kiện, sử dụng: `extract(điều kiện, mảng)`"
   ]
  },
  {
   "cell_type": "markdown",
   "id": "e93d59cb",
   "metadata": {},
   "source": [
    "### Từ object có định dạng array, sử dụng:   \n",
    "`array()`"
   ]
  },
  {
   "cell_type": "code",
   "execution_count": 3,
   "id": "1507178e",
   "metadata": {},
   "outputs": [
    {
     "name": "stdout",
     "output_type": "stream",
     "text": [
      "[1 2 3]\n"
     ]
    }
   ],
   "source": [
    "import numpy as np\n",
    "# Tạo mảng một chiều\n",
    "array_1 = np.array([1, 2, 3])\n",
    "print(array_1)"
   ]
  },
  {
   "cell_type": "code",
   "execution_count": 4,
   "id": "bfddba2c",
   "metadata": {},
   "outputs": [
    {
     "name": "stdout",
     "output_type": "stream",
     "text": [
      "<class 'numpy.ndarray'>\n"
     ]
    }
   ],
   "source": [
    "# Kiểm tra kiểu data\n",
    "print(type(array_1))"
   ]
  },
  {
   "cell_type": "markdown",
   "id": "d475f04d",
   "metadata": {},
   "source": [
    "### Từ list, tuple, sử dụng:   \n",
    "`asarray()`"
   ]
  },
  {
   "cell_type": "code",
   "execution_count": 5,
   "id": "1d58df20",
   "metadata": {},
   "outputs": [
    {
     "name": "stdout",
     "output_type": "stream",
     "text": [
      "[1 2 3]\n"
     ]
    }
   ],
   "source": [
    "# Tạo mảng từ Tuple\n",
    "x = (1, 2, 3)\n",
    "b = np.asarray(x)\n",
    "print(b)"
   ]
  },
  {
   "cell_type": "markdown",
   "id": "577b8d29",
   "metadata": {},
   "source": [
    "### Có giá trị mặc định là 0, 1, sử dụng:   \n",
    "`zeros()` và `ones()`"
   ]
  },
  {
   "cell_type": "code",
   "execution_count": 6,
   "id": "4d5f1ca4",
   "metadata": {},
   "outputs": [
    {
     "name": "stdout",
     "output_type": "stream",
     "text": [
      "[0 0 0 0 0]\n"
     ]
    }
   ],
   "source": [
    "# Mảng với các phần tử có giá trị ban đầu là 0\n",
    "mang_0 = np.zeros((5, ), dtype = int)\n",
    "print(mang_0)"
   ]
  },
  {
   "cell_type": "code",
   "execution_count": 7,
   "id": "6e2ddd8d",
   "metadata": {},
   "outputs": [
    {
     "name": "stdout",
     "output_type": "stream",
     "text": [
      "[1. 1. 1. 1. 1.]\n"
     ]
    }
   ],
   "source": [
    "# Mảng với các phần tử có giá trị ban đầu là 1\n",
    "mang_1 = np.ones(5)\n",
    "print(mang_1)"
   ]
  },
  {
   "cell_type": "markdown",
   "id": "abb2fa6f",
   "metadata": {},
   "source": [
    "### Từ range, sử dụng:  \n",
    "`numpy.arange(start, stop, step, dtype)`"
   ]
  },
  {
   "cell_type": "code",
   "execution_count": 8,
   "id": "f1d77044",
   "metadata": {},
   "outputs": [
    {
     "name": "stdout",
     "output_type": "stream",
     "text": [
      "[10 12 14 16 18]\n"
     ]
    }
   ],
   "source": [
    "mang_2 = np.arange(10, 20, 2)\n",
    "print(mang_2)"
   ]
  },
  {
   "cell_type": "markdown",
   "id": "64842b8c",
   "metadata": {},
   "source": [
    "### Từ range có khoảng cách đều nhau, sử dụng:  \n",
    "`numpy.linspace(start, stop, num, endpoint, dtype)`"
   ]
  },
  {
   "cell_type": "code",
   "execution_count": 9,
   "id": "bbc1e448",
   "metadata": {},
   "outputs": [
    {
     "name": "stdout",
     "output_type": "stream",
     "text": [
      "Kết quả mang_3 là: [10.  12.5 15.  17.5 20. ]\n",
      "Kết quả mang_4 là: [10. 12. 14. 16. 18.]\n"
     ]
    }
   ],
   "source": [
    "mang_3 = np.linspace(10, 20, 5)\n",
    "print('Kết quả mang_3 là:',mang_3)\n",
    "\n",
    "mang_4 = np.linspace(10, 20, 5, endpoint=False)\n",
    "print('Kết quả mang_4 là:', mang_4)"
   ]
  },
  {
   "cell_type": "markdown",
   "id": "8b1016e3",
   "metadata": {},
   "source": [
    "=> Trong đó: lấy giá trị cuối thì `endpoint=True`, ngược lại, không lấy thì `endpoint=False`"
   ]
  },
  {
   "cell_type": "markdown",
   "id": "08fc2989",
   "metadata": {},
   "source": [
    "### Truy xuất phần tử trên mảng theo index (từ 0 đến chiều dài mảng -1)"
   ]
  },
  {
   "cell_type": "code",
   "execution_count": 10,
   "id": "0581e2c1",
   "metadata": {},
   "outputs": [
    {
     "name": "stdout",
     "output_type": "stream",
     "text": [
      "[ 1  2  3  4  5  6  7  8  9 10]\n",
      "6\n",
      "[ 4  5  6  7  8  9 10]\n",
      "[4 5]\n",
      "[1 2 3 4]\n"
     ]
    }
   ],
   "source": [
    "# Truy xuất phần tử trong mảng\n",
    "mang_5 = np.array([1, 2, 3, 4, 5, 6, 7, 8, 9, 10]) # index bắt đầu từ 0\n",
    "print(mang_5)\n",
    "print(mang_5[5]) # lấy index 5\n",
    "print(mang_5[3:]) # từ index 3, lấy hết\n",
    "print(mang_5[3:5]) # từ index 3 lấy đến index 4\n",
    "print(mang_5[mang_5 < 5]) # có kèm điều kiện"
   ]
  },
  {
   "cell_type": "markdown",
   "id": "589b4158",
   "metadata": {},
   "source": [
    "### Truy xuất phần tử trên mảng theo:   \n",
    "`slice(start, stop, step)`"
   ]
  },
  {
   "cell_type": "code",
   "execution_count": 11,
   "id": "2b36028a",
   "metadata": {},
   "outputs": [
    {
     "name": "stdout",
     "output_type": "stream",
     "text": [
      "[4 6 8]\n",
      "6\n"
     ]
    }
   ],
   "source": [
    "# Truy xuất các phần tử trong mảng dùng slice\n",
    "mang_5 = np.array([1, 2, 3, 4, 5, 6, 7, 8, 9, 10])\n",
    "s = slice(3, 8, 2)\n",
    "print(mang_5[s])\n",
    "print(mang_5[s][1])"
   ]
  },
  {
   "cell_type": "markdown",
   "id": "36cd6031",
   "metadata": {},
   "source": [
    "### Thêm các phần tử vào cuối mảng, sử dụng:   \n",
    "`append()`"
   ]
  },
  {
   "cell_type": "code",
   "execution_count": 12,
   "id": "eed8937f",
   "metadata": {},
   "outputs": [
    {
     "name": "stdout",
     "output_type": "stream",
     "text": [
      "[ 1  2  3  4  5  6  7  8  9 10 24 27]\n"
     ]
    }
   ],
   "source": [
    "# Thêm các phần tử vào cuối mảng\n",
    "mang_5 = np.array([1, 2, 3, 4, 5, 6, 7, 8, 9, 10])\n",
    "mang_5 = np.append(mang_5, [24, 27])\n",
    "print(mang_5)"
   ]
  },
  {
   "cell_type": "markdown",
   "id": "fd1e38b1",
   "metadata": {},
   "source": [
    "### Thêm phần tử vào index trong mảng, sử dụng:  \n",
    "`insert()`"
   ]
  },
  {
   "cell_type": "code",
   "execution_count": 13,
   "id": "fd189aa4",
   "metadata": {},
   "outputs": [
    {
     "name": "stdout",
     "output_type": "stream",
     "text": [
      "[ 1  2  3  4  5  6  7  8  9 10 24 27]\n",
      "[  1   2   3 100   4   5   6   7   8   9  10  24  27]\n"
     ]
    }
   ],
   "source": [
    "# Thêm phần tử vào index = 3, giá trị 100\n",
    "print(mang_5)\n",
    "mang_5 = np.insert(mang_5, 3, 100)\n",
    "print(mang_5)"
   ]
  },
  {
   "cell_type": "markdown",
   "id": "180bf2ae",
   "metadata": {},
   "source": [
    "### Xoá phần tử tại index trong mảng, sử dụng:   \n",
    "`delete()`"
   ]
  },
  {
   "cell_type": "code",
   "execution_count": 14,
   "id": "003a4248",
   "metadata": {},
   "outputs": [
    {
     "name": "stdout",
     "output_type": "stream",
     "text": [
      "[  1   2   3 100   4   5   6   7   8   9  10  24  27]\n",
      "[  1   2   3 100   4   5   6   7   9  10  24  27]\n"
     ]
    }
   ],
   "source": [
    "# Xoá phần tử tại vị trí index = 8\n",
    "print(mang_5)\n",
    "mang_5 = np.delete(mang_5, 8)\n",
    "print(mang_5)"
   ]
  },
  {
   "cell_type": "markdown",
   "id": "320b6adf",
   "metadata": {},
   "source": [
    "### Broadcasting: thực hiện các phép toán số học trên mảng"
   ]
  },
  {
   "cell_type": "code",
   "execution_count": 15,
   "id": "0a31d64b",
   "metadata": {},
   "outputs": [
    {
     "name": "stdout",
     "output_type": "stream",
     "text": [
      "Mang cong la: [ 6  8 10 12]\n",
      "Mang tru la: [-4 -4 -4 -4]\n",
      "Mang_nhan: [ 5 12 21 32]\n",
      "Mang chia la: [0.2        0.33333333 0.42857143 0.5       ]\n"
     ]
    }
   ],
   "source": [
    "m = np.array([1, 2, 3, 4])\n",
    "n = np.array([5, 6, 7, 8])\n",
    "\n",
    "mang_cong = m + n\n",
    "print(\"Mang cong la:\", mang_cong)\n",
    "\n",
    "mang_tru = m - n\n",
    "print(\"Mang tru la:\", mang_tru)\n",
    "\n",
    "mang_nhan = m*n\n",
    "print(\"Mang_nhan:\", mang_nhan)\n",
    "\n",
    "mang_chia = m/n\n",
    "print(\"Mang chia la:\", mang_chia)"
   ]
  },
  {
   "cell_type": "markdown",
   "id": "d969949e",
   "metadata": {},
   "source": [
    "### Statistical function"
   ]
  },
  {
   "cell_type": "code",
   "execution_count": 16,
   "id": "521e995e",
   "metadata": {},
   "outputs": [
    {
     "name": "stdout",
     "output_type": "stream",
     "text": [
      "10\n",
      "10\n",
      "3\n",
      "3\n"
     ]
    }
   ],
   "source": [
    "d = np.array([3, 6, 4, 8, 10, 6, 3])\n",
    "\n",
    "# Tìm max dùng max() or amax()\n",
    "print(np.max(d))\n",
    "print(np.amax(d))\n",
    "\n",
    "# Tìm min dùng min() or amin()\n",
    "print(np.amin(d))\n",
    "print(np.amin(d))"
   ]
  },
  {
   "cell_type": "code",
   "execution_count": 17,
   "id": "e5985438",
   "metadata": {},
   "outputs": [
    {
     "data": {
      "text/plain": [
       "40"
      ]
     },
     "execution_count": 17,
     "metadata": {},
     "output_type": "execute_result"
    }
   ],
   "source": [
    "# Tính tổng giá trị, sử dụng sum()\n",
    "d = np.array([3, 6, 4, 8, 10, 6, 3])\n",
    "d.sum()"
   ]
  },
  {
   "cell_type": "code",
   "execution_count": 18,
   "id": "a5e07e9d",
   "metadata": {},
   "outputs": [
    {
     "name": "stdout",
     "output_type": "stream",
     "text": [
      "5.714285714285714\n"
     ]
    }
   ],
   "source": [
    "# Giá trị trung bình số học, sử dụng: mean()\n",
    "d = np.array([3, 6, 4, 8, 10, 6, 3])\n",
    "print(np.mean(d))"
   ]
  },
  {
   "cell_type": "code",
   "execution_count": 19,
   "id": "84807193",
   "metadata": {},
   "outputs": [
    {
     "name": "stdout",
     "output_type": "stream",
     "text": [
      "4.5\n"
     ]
    }
   ],
   "source": [
    "# Giá trị trung bình giữa, median() dựa trên mảng đã sắp xếp tăng dần, lấy trung bình phần tử ở giữa mảng\n",
    "e = np.array([1, 2, 3, 4, 5, 6, 7, 8])\n",
    "print(np.median(e))"
   ]
  },
  {
   "cell_type": "markdown",
   "id": "4acb337c",
   "metadata": {},
   "source": [
    "### Sắp xếp trăng dần/giảm dần trong mảng, sử dụng:  \n",
    "`sort()`"
   ]
  },
  {
   "cell_type": "code",
   "execution_count": 20,
   "id": "aa3b9042",
   "metadata": {},
   "outputs": [
    {
     "name": "stdout",
     "output_type": "stream",
     "text": [
      "Sắp xếp tăng dần: [ 3  3  4  6  6  8 10]\n",
      "Sắp xếp giảm dần: [10  8  6  6  4  3  3]\n"
     ]
    }
   ],
   "source": [
    "d = np.array([3, 6, 4, 8, 10, 6, 3])\n",
    "print(\"Sắp xếp tăng dần:\", np.sort(d))\n",
    "print(\"Sắp xếp giảm dần:\", np.sort(d)[::-1])"
   ]
  },
  {
   "cell_type": "markdown",
   "id": "514a6300",
   "metadata": {},
   "source": [
    "### Tìm index của các phần tử trong mảng thoả điều kiện, sử dụng:  \n",
    "`where()`"
   ]
  },
  {
   "cell_type": "code",
   "execution_count": 21,
   "id": "759f9941",
   "metadata": {},
   "outputs": [
    {
     "name": "stdout",
     "output_type": "stream",
     "text": [
      "[ 3  6  4  8 10  6  3]\n",
      "(array([1, 3, 4, 5]),)\n",
      "[ 6  8 10  6]\n"
     ]
    }
   ],
   "source": [
    "print(d)\n",
    "indexes = np.where(d >= 5)\n",
    "print(indexes)\n",
    "print(d[indexes])"
   ]
  },
  {
   "cell_type": "markdown",
   "id": "cb5bab64",
   "metadata": {},
   "source": [
    "### Tìm các phần tử trong mảng thoả điều kiện, sử dụng:  \n",
    "`extract(điều kiện, mảng)`"
   ]
  },
  {
   "cell_type": "code",
   "execution_count": 22,
   "id": "1ff1c413",
   "metadata": {},
   "outputs": [
    {
     "name": "stdout",
     "output_type": "stream",
     "text": [
      "[ 3  6  4  8 10  6  3]\n",
      "[ 6  4  8 10  6]\n",
      "[ 6  8 10  6]\n"
     ]
    }
   ],
   "source": [
    "print(d)\n",
    "print(np.extract(np.mod(d, 2) == 0, d))\n",
    "print(np.extract(d >= 5, d))"
   ]
  },
  {
   "cell_type": "markdown",
   "id": "8ebe5192",
   "metadata": {},
   "source": [
    "## 2.2 Mảng nhiều chiều\n",
    "### Tương tự như mảng một chiều"
   ]
  },
  {
   "cell_type": "code",
   "execution_count": 23,
   "id": "9f08c293",
   "metadata": {},
   "outputs": [
    {
     "name": "stdout",
     "output_type": "stream",
     "text": [
      "[[1 2 3]\n",
      " [4 5 6]]\n",
      "<class 'numpy.ndarray'>\n"
     ]
    }
   ],
   "source": [
    "# Tạo mảng \n",
    "array_2 = np.array([[1, 2, 3], [4, 5, 6]])\n",
    "print(array_2)\n",
    "print(type(array_2))"
   ]
  },
  {
   "cell_type": "code",
   "execution_count": 24,
   "id": "0d6fc6e9",
   "metadata": {},
   "outputs": [
    {
     "name": "stdout",
     "output_type": "stream",
     "text": [
      "Mang 0: [[[0 0]\n",
      "  [0 0]]\n",
      "\n",
      " [[0 0]\n",
      "  [0 0]]]\n",
      "Mang 1: [[1 1]\n",
      " [1 1]]\n"
     ]
    }
   ],
   "source": [
    "# Tạo mảng với 0 hoặc 1\n",
    "mang_zeros = np.zeros([2, 2, 2], dtype=int)\n",
    "print(\"Mang 0:\", mang_zeros)\n",
    "\n",
    "mang_ones = np.ones([2, 2], dtype=int)\n",
    "print(\"Mang 1:\", mang_ones)"
   ]
  },
  {
   "cell_type": "code",
   "execution_count": 25,
   "id": "016fdf81",
   "metadata": {},
   "outputs": [
    {
     "name": "stdout",
     "output_type": "stream",
     "text": [
      "(2, 3)\n"
     ]
    }
   ],
   "source": [
    "# Số dòng, số cột trên mảng\n",
    "print(array_2.shape)"
   ]
  },
  {
   "cell_type": "code",
   "execution_count": 26,
   "id": "3064ac5d",
   "metadata": {},
   "outputs": [
    {
     "name": "stdout",
     "output_type": "stream",
     "text": [
      "[[100   2   3]\n",
      " [  4   5   6]]\n"
     ]
    }
   ],
   "source": [
    "# Cập nhật phần tử trong mảng\n",
    "array_2[0][0] = 100\n",
    "print(array_2)"
   ]
  },
  {
   "cell_type": "code",
   "execution_count": 27,
   "id": "f5217f2e",
   "metadata": {},
   "outputs": [
    {
     "name": "stdout",
     "output_type": "stream",
     "text": [
      "[[100   2   3]\n",
      " [  4   5   6]]\n",
      "6\n",
      "[4 5 6]\n"
     ]
    }
   ],
   "source": [
    "# Truy xuất phần tử trong mảng\n",
    "print(array_2)\n",
    "print(array_2[1, 2])\n",
    "print(array_2[1, ])"
   ]
  },
  {
   "cell_type": "code",
   "execution_count": 28,
   "id": "a68698f8",
   "metadata": {},
   "outputs": [
    {
     "name": "stdout",
     "output_type": "stream",
     "text": [
      "[[100   2   3]\n",
      " [  4   5   6]]\n",
      "(2, 3)\n",
      "[[100   2]\n",
      " [  3   4]\n",
      " [  5   6]]\n"
     ]
    }
   ],
   "source": [
    "# Thay đổi kích cỡ mảng\n",
    "print(array_2)\n",
    "print(array_2.shape)\n",
    "array_2.shape = (3, 2)\n",
    "print(array_2)"
   ]
  },
  {
   "cell_type": "code",
   "execution_count": 29,
   "id": "94a4f9a0",
   "metadata": {},
   "outputs": [
    {
     "name": "stdout",
     "output_type": "stream",
     "text": [
      "[ 0  1  2  3  4  5  6  7  8  9 10 11 12 13 14 15 16 17 18 19 20 21 22 23]\n",
      "[[[ 0  1  2  3]\n",
      "  [ 4  5  6  7]\n",
      "  [ 8  9 10 11]]\n",
      "\n",
      " [[12 13 14 15]\n",
      "  [16 17 18 19]\n",
      "  [20 21 22 23]]]\n",
      "6\n"
     ]
    }
   ],
   "source": [
    "# Thay đổi kích cỡ mảng dùng reshape\n",
    "a = np.arange(24)\n",
    "print(a)\n",
    "b = a.reshape(2, 3, 4) # Ma traajn, dòng, cột\n",
    "print(b)\n",
    "print(b[0][1][2])"
   ]
  },
  {
   "cell_type": "markdown",
   "id": "3eb73c04",
   "metadata": {},
   "source": [
    "### Thực hiện các phép toán số học trên mảng\n",
    "+ Tìm `max()`, `min()` (hoặc dùng `amax()` và `amin()`)\n",
    "+ Trung bình: `mean()`\n",
    "+ Trung bình giữa (trung vị): `median()`\n",
    "+ Độ lệch chuẩn: `std()`\n",
    "+ Hệ số tương quan (Peason Product)"
   ]
  },
  {
   "cell_type": "code",
   "execution_count": 30,
   "id": "63dab451",
   "metadata": {},
   "outputs": [
    {
     "name": "stdout",
     "output_type": "stream",
     "text": [
      "[[1 2]\n",
      " [3 4]]\n",
      "1.118033988749895\n",
      "[1. 1.]\n",
      "[0.5 0.5]\n"
     ]
    }
   ],
   "source": [
    "# Tính toán độ lệch chuẩn standard deviation\n",
    "a = np.array([[1, 2], [3, 4]])\n",
    "print(a)\n",
    "print(np.std(a))\n",
    "print(np.std(a, axis = 0)) # 0: cột (tính trên cột)\n",
    "print(np.std(a, axis = 1)) # 1: dòng"
   ]
  },
  {
   "cell_type": "code",
   "execution_count": 31,
   "id": "9a0e849d",
   "metadata": {},
   "outputs": [
    {
     "name": "stdout",
     "output_type": "stream",
     "text": [
      "[[1 2]\n",
      " [3 4]]\n",
      "Coefficient\n",
      "[[1. 1.]\n",
      " [1. 1.]]\n"
     ]
    }
   ],
   "source": [
    "# Tính toán hệ số tương quan theo thời điểm (Peason Product)\n",
    "b = np.array([[1, 4, 6], [1, 2, 3]])\n",
    "print(a)\n",
    "print(\"Coefficient\")\n",
    "print(np.corrcoef(a[0], a[1]))"
   ]
  },
  {
   "cell_type": "markdown",
   "id": "c289c3af",
   "metadata": {},
   "source": [
    "**<span style=\"color:#034235;\"> Thanks for reading this post. </span>**\n",
    "_______\n",
    "_Make by_**<span style=\"color:#034235;\"> Lucas,</span>**\n",
    "### <p style=\"padding:5px;background-color:#034235;margin:0;color:#ffe7a0;font-family:newtimeroman;font-size:150%;text-align:center;border-radius: 20px;overflow:hidden;font-weight:900\">END</p>\n",
    "______\n",
    "<img src=\"https://github.com/LeHongNgoc3820/Lucas_viet_Blog/blob/b5e2de5a812292889e793b719572d06f3ababf2d/Logo%20ta%CC%81ch%20ne%CC%82%CC%80n.png?raw=true\"\n",
    "     style=\"width:200px;height:200px;\">\n",
    "\n",
    "**<span style=\"color:#034235;\"> You can contact with me on:</span>**\n",
    "+ **Gmail**: lehongngoc.work@gmail.com\n",
    "+ **GitHub**: [LeHongNgoc3820](https://github.com/LeHongNgoc3820)\n",
    "+ **Linkedln**: [Ngoc Le Hong](https://www.linkedin.com/in/ngoc-le-hong-44131b21a/)"
   ]
  },
  {
   "cell_type": "code",
   "execution_count": null,
   "id": "26a945fe",
   "metadata": {},
   "outputs": [],
   "source": []
  }
 ],
 "metadata": {
  "kernelspec": {
   "display_name": "Python 3 (ipykernel)",
   "language": "python",
   "name": "python3"
  },
  "language_info": {
   "codemirror_mode": {
    "name": "ipython",
    "version": 3
   },
   "file_extension": ".py",
   "mimetype": "text/x-python",
   "name": "python",
   "nbconvert_exporter": "python",
   "pygments_lexer": "ipython3",
   "version": "3.9.15"
  }
 },
 "nbformat": 4,
 "nbformat_minor": 5
}
